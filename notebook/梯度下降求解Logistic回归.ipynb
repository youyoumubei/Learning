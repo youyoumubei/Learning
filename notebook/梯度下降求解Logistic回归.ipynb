{
 "cells": [
  {
   "cell_type": "markdown",
   "metadata": {},
   "source": [
    "## Logistic Regression"
   ]
  },
  {
   "cell_type": "code",
   "execution_count": 1,
   "metadata": {},
   "outputs": [],
   "source": [
    "import numpy as np\n",
    "import pandas as pd\n",
    "import matplotlib.pyplot as plt\n",
    "%matplotlib inline"
   ]
  },
  {
   "cell_type": "code",
   "execution_count": null,
   "metadata": {},
   "outputs": [],
   "source": [
    "import os\n",
    "path = ''\n",
    "# 自定义数据的header\n",
    "pdData = pd.read_csv(path, header=None, names=['Exam 1', 'Exam 2', 'Admitted'])\n",
    "# 数据的维度\n",
    "pdData.shape"
   ]
  },
  {
   "cell_type": "code",
   "execution_count": null,
   "metadata": {},
   "outputs": [],
   "source": [
    "# 获取正负样本的数据\n",
    "positive = pdData[pdData['Admitted'] == 1]\n",
    "negative = pdData[pdData['Admitted'] == 0]\n",
    "\n",
    "# 散点图正负样本数据情况\n",
    "fig, ax = plt.subplots(figsize=(10, 5))\n",
    "ax.sactter(positive['Exam 1'], positive['Exam 2'], s=30, c='b', marker='o', label='Admitted')\n",
    "ax.sactter(negative['Exam 1'], negative['Exam 2'], s=30, c='r', marker='x', label='Not Admitted')\n",
    "ax.legend()\n",
    "ax.set_xlabel('Exam 1 Score')\n",
    "ax.set_ylabel('Exam 2 Score')"
   ]
  },
  {
   "cell_type": "markdown",
   "metadata": {},
   "source": [
    "### The Logistic Regression\n",
    "目标：建立分类器（求解出三个参数θ1，2，3）\n",
    "\n",
    "设定阈值，根据阈值判定录取结果\n",
    "\n",
    "要完成的模块：\n",
    "* sigmoid:映射到概率的函数\n",
    "* model:返回预测结果值\n",
    "* cost:根据参数计算损失\n",
    "* gradient:计算每个参数的梯度方向\n",
    "* descent:进行参数更新\n",
    "* accuracy:计算精度"
   ]
  },
  {
   "cell_type": "markdown",
   "metadata": {},
   "source": [
    "## 案例分析"
   ]
  },
  {
   "cell_type": "code",
   "execution_count": 2,
   "metadata": {},
   "outputs": [],
   "source": [
    "import numpy as np\n",
    "import pandas as pd\n",
    "import matplotlib.pyplot as plt\n",
    "%matplotlib inline"
   ]
  },
  {
   "cell_type": "code",
   "execution_count": null,
   "metadata": {},
   "outputs": [],
   "source": [
    "data = pd.read_csv('creditcard.csv')\n",
    "data.head()\n",
    "\n",
    "count_classes = pd.value_counts(data['Class'], sort=True).sort_index()\n",
    "count_classes.plot(kind='bar')\n",
    "plot.title('Fruad class histogram')\n",
    "plot.xlabel('Class')\n",
    "plot.ylabel('Frequency')"
   ]
  },
  {
   "cell_type": "markdown",
   "metadata": {},
   "source": [
    "### 解决样本不均衡问题\n",
    "* 下采样:从数据量多的样本中抽取部分样本，同样少，有点是recall高但是误杀率也很高\n",
    "* 过采样:生成策略，同样多"
   ]
  },
  {
   "cell_type": "code",
   "execution_count": null,
   "metadata": {},
   "outputs": [],
   "source": [
    "# 为了使每个特征重要程度相当，需要对数据做归一化或正则化\n",
    "from sklearn.preprocessing import StandarScaler\n",
    "# fit_transform对数据原特征进行变换得到新的特征\n",
    "data['normAmount'] = StandarScaler().fit_transform(data['Amount']).reshape(-1, 1)\n",
    "# 舍弃不需要的特征\n",
    "data = data.drop(['Time', 'Amount'], axis=1)\n",
    "data.head()"
   ]
  },
  {
   "cell_type": "markdown",
   "metadata": {},
   "source": [
    "### 下采样策略"
   ]
  },
  {
   "cell_type": "code",
   "execution_count": null,
   "metadata": {},
   "outputs": [],
   "source": [
    "# 数据切分成特征和标签\n",
    "X = data.iX[:, data.columns != 'Class']\n",
    "Y = data.iY[:, data.columns == 'Class']\n",
    "\n",
    "number_records_fraud = len(data[data.Class == 1])\n",
    "# 获取符合条件的数据索引\n",
    "fraud_indices = np.array(data[data.Class == 1].index)\n",
    "normal_indices = data[data.Class == 0].index\n",
    "\n",
    "# 对数据进行下采样并获取索引值\n",
    "random_normal_indices = np.random.choice(normal_indices, number_records_fraud, replace=True)\n",
    "random_normal_indices = np.array(random_normal_indices)\n",
    "\n",
    "# 合并数据\n",
    "under_sample_indeces = np.concatenate([fraud_indices, random_normal_indices])\n",
    "under_sample_data = data.iloc[under_sample_indeces, :]\n",
    "\n",
    "X_undersample = under_sample_data.iX[:, under_sample_data.columns != 'Class']\n",
    "Y_undersample = under_sample_data.iY[:, under_sample_data.columns == 'Class']"
   ]
  },
  {
   "cell_type": "markdown",
   "metadata": {},
   "source": [
    "### 交叉验证\n",
    "recall = TP / (TP + FN)"
   ]
  },
  {
   "cell_type": "code",
   "execution_count": null,
   "metadata": {},
   "outputs": [],
   "source": [
    "from sklearn.model_selection import train_test_split\n",
    "from sklearn.cross_validation import cross_val_score\n",
    "\n",
    "# random_state可以复现\n",
    "# 对整个数据集进行切分\n",
    "x_train, x_test, y_train, y_test = train_test_split(X, Y, test_size=0.3, random_state=0)\n",
    "# 对进行下采样过的数据进行切分\n",
    "# 得到的测试集比较少而且不具备原有数据的分布情况\n",
    "x_train_undersample, x_test_undersample, y_train_undersample, y_test_undersample = train_test_split(X_undersample, Y_undersample, test_size=0.3, random_state=0)"
   ]
  },
  {
   "cell_type": "code",
   "execution_count": 1,
   "metadata": {},
   "outputs": [
    {
     "ename": "ModuleNotFoundError",
     "evalue": "No module named 'sklearn.cross_validation'",
     "output_type": "error",
     "traceback": [
      "\u001b[0;31m---------------------------------------------------------------------------\u001b[0m",
      "\u001b[0;31mModuleNotFoundError\u001b[0m                       Traceback (most recent call last)",
      "\u001b[0;32m<ipython-input-1-360b81e3c1ea>\u001b[0m in \u001b[0;36m<module>\u001b[0;34m\u001b[0m\n\u001b[1;32m      1\u001b[0m \u001b[0;32mfrom\u001b[0m \u001b[0msklearn\u001b[0m\u001b[0;34m.\u001b[0m\u001b[0mlinear_model\u001b[0m \u001b[0;32mimport\u001b[0m \u001b[0mLogisticRegression\u001b[0m\u001b[0;34m\u001b[0m\u001b[0;34m\u001b[0m\u001b[0m\n\u001b[1;32m      2\u001b[0m \u001b[0;32mfrom\u001b[0m \u001b[0msklearn\u001b[0m\u001b[0;34m.\u001b[0m\u001b[0mmetrics\u001b[0m \u001b[0;32mimport\u001b[0m \u001b[0mconfusion_matrix\u001b[0m\u001b[0;34m,\u001b[0m \u001b[0mrecall_score\u001b[0m\u001b[0;34m,\u001b[0m \u001b[0mclassification_report\u001b[0m\u001b[0;34m\u001b[0m\u001b[0;34m\u001b[0m\u001b[0m\n\u001b[0;32m----> 3\u001b[0;31m \u001b[0;32mfrom\u001b[0m \u001b[0msklearn\u001b[0m\u001b[0;34m.\u001b[0m\u001b[0mcross_validation\u001b[0m \u001b[0;32mimport\u001b[0m \u001b[0mcross_val_score\u001b[0m\u001b[0;34m,\u001b[0m \u001b[0mKFold\u001b[0m\u001b[0;34m\u001b[0m\u001b[0;34m\u001b[0m\u001b[0m\n\u001b[0m",
      "\u001b[0;31mModuleNotFoundError\u001b[0m: No module named 'sklearn.cross_validation'"
     ]
    }
   ],
   "source": [
    "from sklearn.linear_model import LogisticRegression\n",
    "from sklearn.metrics import confusion_matrix, recall_score, classification_report\n",
    "from sklearn.cross_validation import cross_val_score, KFold"
   ]
  },
  {
   "cell_type": "code",
   "execution_count": null,
   "metadata": {},
   "outputs": [],
   "source": [
    "def printing_Kfold_scores(x_train, y_train):\n",
    "    fold = KFold(len(y_train), 5, shuffle=False)\n",
    "    # 不同的正则化参数\n",
    "    c_param_range = [0.01, 0.1, 1, 10, 100]\n",
    "    \n",
    "    result_table = pd.DataFrame(index=range(len(c_param_range), 2), columns=['C_parameter', 'Mean recall score'])\n",
    "    result_table['C_parameter'] = c_param_range\n",
    "    j = 0\n",
    "    for c_param in c_param_range:\n",
    "        reclass_accs = []\n",
    "        for iteration, indices in enumerate(fold, start=1):\n",
    "            # L1惩罚项\n",
    "            lr = LogisticRegression(C=c_param, penalty='ll')\n",
    "            # 模型构建\n",
    "            lr.fit(x_train.iloc[indices[0], :], y_train.iloc[indices[1], :].values.ravel())\n",
    "            # 模型预测\n",
    "            y_pred_undersample = lr.predict(x_train[indices[1], :].values)\n",
    "            recall_acc = recall_score(y_train.iloc[indices[1], :].values, y_pred_undersample)\n",
    "            reclass_accs.append(recall_acc)\n",
    "            print('Iteration', iteration, ':recall score=', recall_acc)\n",
    "\n",
    "        result_table.ix[j,'Mean recall score'] = np.mean(recall_accs)\n",
    "        j + =1\n",
    "    best_c = result_table.loc[result_table['Mean recall score'].idxmax()]['C_parameter']\n",
    "    return best_c"
   ]
  },
  {
   "cell_type": "markdown",
   "metadata": {},
   "source": [
    "### 过采样\n",
    "SMOTE样本生成策略"
   ]
  },
  {
   "cell_type": "code",
   "execution_count": null,
   "metadata": {},
   "outputs": [],
   "source": [
    "import pandas as pd\n",
    "from imblearn.over_sampling import SOMTE\n",
    "from sklearn.ensemble import RandomForestClassifier\n",
    "from sklearn.metrics import confusion_matrix\n",
    "from sklearn.model_selection import train_test_split"
   ]
  },
  {
   "cell_type": "code",
   "execution_count": null,
   "metadata": {},
   "outputs": [],
   "source": [
    "x_train, x_test, y_train, y_test = train_test_split(X, Y, test_size=0.3, random_state=0)\n",
    "oversampler = SMOTE(random_state=0)\n",
    "os_features, os_labels = oversampler.fit_sample(x_train, y_train)\n",
    "\n",
    "os_features = pd.DataFrame(os_features)\n",
    "os_labels = pd.DataFrame(os_labels)\n",
    "best_c = printing_KFold_scores(os_features, os_labels)\n"
   ]
  },
  {
   "cell_type": "markdown",
   "metadata": {},
   "source": [
    "### 总结\n",
    "在数据样本不均衡的情况下，为了衡量recall和accuracy，采用过采样的策略也许能够得到较好的效果"
   ]
  },
  {
   "cell_type": "code",
   "execution_count": null,
   "metadata": {},
   "outputs": [],
   "source": []
  }
 ],
 "metadata": {
  "kernelspec": {
   "display_name": "Python 3",
   "language": "python",
   "name": "python3"
  },
  "language_info": {
   "codemirror_mode": {
    "name": "ipython",
    "version": 3
   },
   "file_extension": ".py",
   "mimetype": "text/x-python",
   "name": "python",
   "nbconvert_exporter": "python",
   "pygments_lexer": "ipython3",
   "version": "3.7.4"
  }
 },
 "nbformat": 4,
 "nbformat_minor": 2
}
