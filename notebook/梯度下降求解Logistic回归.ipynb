{
 "cells": [
  {
   "cell_type": "markdown",
   "metadata": {},
   "source": [
    "## Logistic Regression"
   ]
  },
  {
   "cell_type": "code",
   "execution_count": 1,
   "metadata": {},
   "outputs": [],
   "source": [
    "import numpy as np\n",
    "import pandas as pd\n",
    "import matplotlib.pyplot as plt\n",
    "%matplotlib inline"
   ]
  },
  {
   "cell_type": "code",
   "execution_count": null,
   "metadata": {},
   "outputs": [],
   "source": [
    "import os\n",
    "path = ''\n",
    "# 自定义数据的header\n",
    "pdData = pd.read_csv(path, header=None, names=['Exam 1', 'Exam 2', 'Admitted'])\n",
    "# 数据的维度\n",
    "pdData.shape"
   ]
  },
  {
   "cell_type": "code",
   "execution_count": null,
   "metadata": {},
   "outputs": [],
   "source": [
    "# 获取正负样本的数据\n",
    "positive = pdData[pdData['Admitted'] == 1]\n",
    "negative = pdData[pdData['Admitted'] == 0]\n",
    "\n",
    "# 散点图正负样本数据情况\n",
    "fig, ax = plt.subplots(figsize=(10, 5))\n",
    "ax.sactter(positive['Exam 1'], positive['Exam 2'], s=30, c='b', marker='o', label='Admitted')\n",
    "ax.sactter(negative['Exam 1'], negative['Exam 2'], s=30, c='r', marker='x', label='Not Admitted')\n",
    "ax.legend()\n",
    "ax.set_xlabel('Exam 1 Score')\n",
    "ax.set_ylabel('Exam 2 Score')"
   ]
  },
  {
   "cell_type": "markdown",
   "metadata": {},
   "source": [
    "### The Logistic Regression\n",
    "目标：建立分类器（求解出三个参数θ1，2，3）\n",
    "\n",
    "设定阈值，根据阈值判定录取结果\n",
    "\n",
    "要完成的模块：\n",
    "* sigmoid:映射到概率的函数\n",
    "* model:返回预测结果值\n",
    "* cost:根据参数计算损失\n",
    "* gradient:计算每个参数的梯度方向\n",
    "* descent:进行参数更新\n",
    "* accuracy:计算精度"
   ]
  },
  {
   "cell_type": "code",
   "execution_count": null,
   "metadata": {},
   "outputs": [],
   "source": []
  }
 ],
 "metadata": {
  "kernelspec": {
   "display_name": "Python 3",
   "language": "python",
   "name": "python3"
  },
  "language_info": {
   "codemirror_mode": {
    "name": "ipython",
    "version": 3
   },
   "file_extension": ".py",
   "mimetype": "text/x-python",
   "name": "python",
   "nbconvert_exporter": "python",
   "pygments_lexer": "ipython3",
   "version": "3.7.4"
  }
 },
 "nbformat": 4,
 "nbformat_minor": 2
}
